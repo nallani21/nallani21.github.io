{
 "cells": [
  {
   "cell_type": "markdown",
   "metadata": {},
   "source": [
    "# Analysis of Hate Crimes in India\n",
    "# Urisha Kreem, Nidhi Allani, Ernev Sharma"
   ]
  },
  {
   "cell_type": "markdown",
   "metadata": {},
   "source": [
    "# INTRODUCTION"
   ]
  },
  {
   "cell_type": "markdown",
   "metadata": {},
   "source": [
    "The overall objective of this project is to analyze the hate crimes that have taken place in India. This data is picked from the National Crime Records Bureau of India and represents the state wise and district wise crimes against scheduled castes during the years 2001 to 2012. The primary goal is to inform the general public of the most frequent areas in which hate-crimes occur, how the number of hate crimes has changed over the years, and how the current trends presented to us could predict future hate crime patterns. \n",
    "\n",
    "Each record represents the number of each type of crime that occurred where the victim was registered as a person of a scheduled cast. Crimes are recorded regardless of the caste of the offender - which we thought was beneficial as this shows the avoidance of bias within data collection and allows for our findings to be more significiant.\n",
    "\n",
    "The motivation and relevance of this topic is due to many reasons. One of the main reasons supported by a statistic, **INSERT STATISTIC HERE** {**INSERT LINK HERE**}. This is very current information and the issue of hate crimes in this region is not going away anytime soon. \n",
    "\n",
    "The relevance and importance of this topic in respect to data science is that through data analysis of the information we have access to, it will give us insight to crucial imformation to which we can use to minimize hate crimes dependent on a specific pattern, and bring about awareness of the patterns and insights we uncover. Crimes against the historically marginalized castes in India represent an extreme form of prejudice and discrimination and thus we aim to provide the numbers and data in a way that allows us to exploit such occurances backed up with numbers - to bring light to the issue and bring about change with how the system works. \n",
    "\n",
    "Throughout this tutorial we attempt to uncover these trends of hate crimes in India in a clear, concsice manner - making the data available at hand easy to be interpretted and understood by the public. "
   ]
  },
  {
   "cell_type": "markdown",
   "metadata": {},
   "source": [
    "# DATA COLLECTION "
   ]
  },
  {
   "cell_type": "markdown",
   "metadata": {},
   "source": [
    "# Imports: "
   ]
  },
  {
   "cell_type": "code",
   "execution_count": 23,
   "metadata": {},
   "outputs": [
    {
     "data": {
      "text/plain": [
       "0"
      ]
     },
     "execution_count": 23,
     "metadata": {},
     "output_type": "execute_result"
    }
   ],
   "source": [
    "import requests #for get request\n",
    "import pandas as pd #pandas\n",
    "import numpy as np #module\n",
    "from datetime import datetime #datetime objects\n",
    "import json #needed for google API\n",
    "import os.path #needed for file reading\n",
    "import matplotlib.pyplot as plt #for plotting\n",
    "from sklearn import linear_model #for linear regression\n",
    "from sklearn.preprocessing import PolynomialFeatures #polynomial regression\n",
    "os.system('jupyter nbconvert --to html FinalProject.ipynb')"
   ]
  },
  {
   "cell_type": "markdown",
   "metadata": {},
   "source": [
    "# Data Extraction: "
   ]
  },
  {
   "cell_type": "code",
   "execution_count": 24,
   "metadata": {},
   "outputs": [
    {
     "data": {
      "text/html": [
       "<div>\n",
       "<style scoped>\n",
       "    .dataframe tbody tr th:only-of-type {\n",
       "        vertical-align: middle;\n",
       "    }\n",
       "\n",
       "    .dataframe tbody tr th {\n",
       "        vertical-align: top;\n",
       "    }\n",
       "\n",
       "    .dataframe thead th {\n",
       "        text-align: right;\n",
       "    }\n",
       "</style>\n",
       "<table border=\"1\" class=\"dataframe\">\n",
       "  <thead>\n",
       "    <tr style=\"text-align: right;\">\n",
       "      <th></th>\n",
       "      <th>STATE/UT</th>\n",
       "      <th>DISTRICT</th>\n",
       "      <th>Year</th>\n",
       "      <th>Murder</th>\n",
       "      <th>Assault on women</th>\n",
       "      <th>Kidnapping and Abduction</th>\n",
       "      <th>Dacoity</th>\n",
       "      <th>Robbery</th>\n",
       "      <th>Arson</th>\n",
       "      <th>Hurt</th>\n",
       "      <th>Prevention of atrocities (POA) Act</th>\n",
       "      <th>Protection of Civil Rights (PCR) Act</th>\n",
       "      <th>Other Crimes Against SCs</th>\n",
       "    </tr>\n",
       "  </thead>\n",
       "  <tbody>\n",
       "    <tr>\n",
       "      <th>0</th>\n",
       "      <td>NaN</td>\n",
       "      <td>NaN</td>\n",
       "      <td>NaN</td>\n",
       "      <td>NaN</td>\n",
       "      <td>NaN</td>\n",
       "      <td>NaN</td>\n",
       "      <td>NaN</td>\n",
       "      <td>NaN</td>\n",
       "      <td>NaN</td>\n",
       "      <td>NaN</td>\n",
       "      <td>NaN</td>\n",
       "      <td>NaN</td>\n",
       "      <td>NaN</td>\n",
       "    </tr>\n",
       "    <tr>\n",
       "      <th>1</th>\n",
       "      <td>ANDHRA PRADESH</td>\n",
       "      <td>ADILABAD</td>\n",
       "      <td>2001.0</td>\n",
       "      <td>0.0</td>\n",
       "      <td>1.0</td>\n",
       "      <td>4.0</td>\n",
       "      <td>0.0</td>\n",
       "      <td>0.0</td>\n",
       "      <td>0.0</td>\n",
       "      <td>3.0</td>\n",
       "      <td>0.0</td>\n",
       "      <td>15.0</td>\n",
       "      <td>32.0</td>\n",
       "    </tr>\n",
       "    <tr>\n",
       "      <th>2</th>\n",
       "      <td>NaN</td>\n",
       "      <td>NaN</td>\n",
       "      <td>NaN</td>\n",
       "      <td>NaN</td>\n",
       "      <td>NaN</td>\n",
       "      <td>NaN</td>\n",
       "      <td>NaN</td>\n",
       "      <td>NaN</td>\n",
       "      <td>NaN</td>\n",
       "      <td>NaN</td>\n",
       "      <td>NaN</td>\n",
       "      <td>NaN</td>\n",
       "      <td>NaN</td>\n",
       "    </tr>\n",
       "    <tr>\n",
       "      <th>3</th>\n",
       "      <td>ANDHRA PRADESH</td>\n",
       "      <td>ANANTAPUR</td>\n",
       "      <td>2001.0</td>\n",
       "      <td>0.0</td>\n",
       "      <td>4.0</td>\n",
       "      <td>0.0</td>\n",
       "      <td>0.0</td>\n",
       "      <td>0.0</td>\n",
       "      <td>0.0</td>\n",
       "      <td>49.0</td>\n",
       "      <td>21.0</td>\n",
       "      <td>0.0</td>\n",
       "      <td>53.0</td>\n",
       "    </tr>\n",
       "    <tr>\n",
       "      <th>4</th>\n",
       "      <td>NaN</td>\n",
       "      <td>NaN</td>\n",
       "      <td>NaN</td>\n",
       "      <td>NaN</td>\n",
       "      <td>NaN</td>\n",
       "      <td>NaN</td>\n",
       "      <td>NaN</td>\n",
       "      <td>NaN</td>\n",
       "      <td>NaN</td>\n",
       "      <td>NaN</td>\n",
       "      <td>NaN</td>\n",
       "      <td>NaN</td>\n",
       "      <td>NaN</td>\n",
       "    </tr>\n",
       "  </tbody>\n",
       "</table>\n",
       "</div>"
      ],
      "text/plain": [
       "         STATE/UT   DISTRICT    Year  Murder  Assault on women  \\\n",
       "0             NaN        NaN     NaN     NaN               NaN   \n",
       "1  ANDHRA PRADESH   ADILABAD  2001.0     0.0               1.0   \n",
       "2             NaN        NaN     NaN     NaN               NaN   \n",
       "3  ANDHRA PRADESH  ANANTAPUR  2001.0     0.0               4.0   \n",
       "4             NaN        NaN     NaN     NaN               NaN   \n",
       "\n",
       "   Kidnapping and Abduction  Dacoity  Robbery  Arson  Hurt  \\\n",
       "0                       NaN      NaN      NaN    NaN   NaN   \n",
       "1                       4.0      0.0      0.0    0.0   3.0   \n",
       "2                       NaN      NaN      NaN    NaN   NaN   \n",
       "3                       0.0      0.0      0.0    0.0  49.0   \n",
       "4                       NaN      NaN      NaN    NaN   NaN   \n",
       "\n",
       "   Prevention of atrocities (POA) Act  Protection of Civil Rights (PCR) Act  \\\n",
       "0                                 NaN                                   NaN   \n",
       "1                                 0.0                                  15.0   \n",
       "2                                 NaN                                   NaN   \n",
       "3                                21.0                                   0.0   \n",
       "4                                 NaN                                   NaN   \n",
       "\n",
       "   Other Crimes Against SCs  \n",
       "0                       NaN  \n",
       "1                      32.0  \n",
       "2                       NaN  \n",
       "3                      53.0  \n",
       "4                       NaN  "
      ]
     },
     "execution_count": 24,
     "metadata": {},
     "output_type": "execute_result"
    }
   ],
   "source": [
    "data = pd.read_csv(\"crime_by_district.csv\")\n",
    "data.head()"
   ]
  },
  {
   "cell_type": "markdown",
   "metadata": {},
   "source": [
    "From this extraction, we can see that there are quite a few values across the table that have values of 'NaN' or *. Essentially what this entails is that the data was unable to be collected, or is simply missing. To do further analysis we need to deal with these values in a strategic way. This leads us to Data Processing - where we will attempt to clean up the data presented to us in a way that is easily readable and provides us the most effeicient ways of analysis later on. "
   ]
  },
  {
   "cell_type": "markdown",
   "metadata": {},
   "source": [
    "# Data Processing:"
   ]
  },
  {
   "cell_type": "code",
   "execution_count": 25,
   "metadata": {},
   "outputs": [
    {
     "data": {
      "text/html": [
       "<div>\n",
       "<style scoped>\n",
       "    .dataframe tbody tr th:only-of-type {\n",
       "        vertical-align: middle;\n",
       "    }\n",
       "\n",
       "    .dataframe tbody tr th {\n",
       "        vertical-align: top;\n",
       "    }\n",
       "\n",
       "    .dataframe thead th {\n",
       "        text-align: right;\n",
       "    }\n",
       "</style>\n",
       "<table border=\"1\" class=\"dataframe\">\n",
       "  <thead>\n",
       "    <tr style=\"text-align: right;\">\n",
       "      <th></th>\n",
       "      <th>STATE/UT</th>\n",
       "      <th>DISTRICT</th>\n",
       "      <th>Year</th>\n",
       "      <th>Murder</th>\n",
       "      <th>Assault on women</th>\n",
       "      <th>Kidnapping and Abduction</th>\n",
       "      <th>Dacoity</th>\n",
       "      <th>Robbery</th>\n",
       "      <th>Arson</th>\n",
       "      <th>Hurt</th>\n",
       "      <th>Prevention of atrocities (POA) Act</th>\n",
       "      <th>Protection of Civil Rights (PCR) Act</th>\n",
       "      <th>Other Crimes Against SCs</th>\n",
       "    </tr>\n",
       "  </thead>\n",
       "  <tbody>\n",
       "    <tr>\n",
       "      <th>0</th>\n",
       "      <td>ANDHRA PRADESH</td>\n",
       "      <td>ADILABAD</td>\n",
       "      <td>2001.0</td>\n",
       "      <td>0.0</td>\n",
       "      <td>1.0</td>\n",
       "      <td>4.0</td>\n",
       "      <td>0.0</td>\n",
       "      <td>0.0</td>\n",
       "      <td>0.0</td>\n",
       "      <td>3.0</td>\n",
       "      <td>0.0</td>\n",
       "      <td>15.0</td>\n",
       "      <td>32.0</td>\n",
       "    </tr>\n",
       "    <tr>\n",
       "      <th>1</th>\n",
       "      <td>ANDHRA PRADESH</td>\n",
       "      <td>ANANTAPUR</td>\n",
       "      <td>2001.0</td>\n",
       "      <td>0.0</td>\n",
       "      <td>4.0</td>\n",
       "      <td>0.0</td>\n",
       "      <td>0.0</td>\n",
       "      <td>0.0</td>\n",
       "      <td>0.0</td>\n",
       "      <td>49.0</td>\n",
       "      <td>21.0</td>\n",
       "      <td>0.0</td>\n",
       "      <td>53.0</td>\n",
       "    </tr>\n",
       "    <tr>\n",
       "      <th>2</th>\n",
       "      <td>ANDHRA PRADESH</td>\n",
       "      <td>CHITTOOR</td>\n",
       "      <td>2001.0</td>\n",
       "      <td>3.0</td>\n",
       "      <td>3.0</td>\n",
       "      <td>0.0</td>\n",
       "      <td>0.0</td>\n",
       "      <td>0.0</td>\n",
       "      <td>0.0</td>\n",
       "      <td>38.0</td>\n",
       "      <td>36.0</td>\n",
       "      <td>0.0</td>\n",
       "      <td>34.0</td>\n",
       "    </tr>\n",
       "    <tr>\n",
       "      <th>3</th>\n",
       "      <td>ANDHRA PRADESH</td>\n",
       "      <td>CUDDAPAH</td>\n",
       "      <td>2001.0</td>\n",
       "      <td>0.0</td>\n",
       "      <td>3.0</td>\n",
       "      <td>0.0</td>\n",
       "      <td>0.0</td>\n",
       "      <td>0.0</td>\n",
       "      <td>0.0</td>\n",
       "      <td>20.0</td>\n",
       "      <td>52.0</td>\n",
       "      <td>0.0</td>\n",
       "      <td>25.0</td>\n",
       "    </tr>\n",
       "    <tr>\n",
       "      <th>4</th>\n",
       "      <td>ANDHRA PRADESH</td>\n",
       "      <td>EAST GODAVARI</td>\n",
       "      <td>2001.0</td>\n",
       "      <td>1.0</td>\n",
       "      <td>3.0</td>\n",
       "      <td>0.0</td>\n",
       "      <td>0.0</td>\n",
       "      <td>0.0</td>\n",
       "      <td>0.0</td>\n",
       "      <td>3.0</td>\n",
       "      <td>12.0</td>\n",
       "      <td>63.0</td>\n",
       "      <td>7.0</td>\n",
       "    </tr>\n",
       "  </tbody>\n",
       "</table>\n",
       "</div>"
      ],
      "text/plain": [
       "         STATE/UT       DISTRICT    Year  Murder  Assault on women  \\\n",
       "0  ANDHRA PRADESH       ADILABAD  2001.0     0.0               1.0   \n",
       "1  ANDHRA PRADESH      ANANTAPUR  2001.0     0.0               4.0   \n",
       "2  ANDHRA PRADESH       CHITTOOR  2001.0     3.0               3.0   \n",
       "3  ANDHRA PRADESH       CUDDAPAH  2001.0     0.0               3.0   \n",
       "4  ANDHRA PRADESH  EAST GODAVARI  2001.0     1.0               3.0   \n",
       "\n",
       "   Kidnapping and Abduction  Dacoity  Robbery  Arson  Hurt  \\\n",
       "0                       4.0      0.0      0.0    0.0   3.0   \n",
       "1                       0.0      0.0      0.0    0.0  49.0   \n",
       "2                       0.0      0.0      0.0    0.0  38.0   \n",
       "3                       0.0      0.0      0.0    0.0  20.0   \n",
       "4                       0.0      0.0      0.0    0.0   3.0   \n",
       "\n",
       "   Prevention of atrocities (POA) Act  Protection of Civil Rights (PCR) Act  \\\n",
       "0                                 0.0                                  15.0   \n",
       "1                                21.0                                   0.0   \n",
       "2                                36.0                                   0.0   \n",
       "3                                52.0                                   0.0   \n",
       "4                                12.0                                  63.0   \n",
       "\n",
       "   Other Crimes Against SCs  \n",
       "0                      32.0  \n",
       "1                      53.0  \n",
       "2                      34.0  \n",
       "3                      25.0  \n",
       "4                       7.0  "
      ]
     },
     "execution_count": 25,
     "metadata": {},
     "output_type": "execute_result"
    }
   ],
   "source": [
    "data.dropna(inplace=True) # Drop all rows that have \"NaN\" as an entry \n",
    "data.index = range(len(data)) #Re-Index the dataframe \n",
    "data.head()"
   ]
  },
  {
   "cell_type": "markdown",
   "metadata": {},
   "source": [
    "Here we have went through the entire dataframe and removed all the rows with \"NaN\" as their values. It was observed that this was a valid solution to our issue with missing data because it was found that the rows with \"NaN\" in one row often had \"NaN\" in most all of the columns - due to the way the data was initially presented to us. Thus there was no solid informatin that entry could have provided us with and therefore it was seen to be safe to remove all the rows instead of using other methods such as single imputations, multiple imputations, etc. "
   ]
  },
  {
   "cell_type": "markdown",
   "metadata": {},
   "source": [
    "Now that we have cleaned up our data, we will move to the exploratory analysis and data visualization portion of the project where we aim to plot our data and observe as well as analyze the presented trends. It is also in this step where we will perform statistical analysesi n order to obtain better supporting evidence for trends that may discover. "
   ]
  },
  {
   "cell_type": "markdown",
   "metadata": {},
   "source": [
    "# EXPLORATORY ANALYSIS AND DATA VISUALIZATION:"
   ]
  },
  {
   "cell_type": "code",
   "execution_count": null,
   "metadata": {},
   "outputs": [],
   "source": [
    "# Heat maps to show where the trend is high for hate crimes to occur {red area on map}\n",
    "# Map to show numerical values of how many counts of hate crime occured in each state\n",
    "# bar graph to show counts of hate crimes per state over time\n",
    "# histogram to show which type of hate crime is most \"popular\" {country and then break down and do per state}\n",
    "# Linear Regression / T-Test to see if all predictors explain response well \n",
    "# ... "
   ]
  },
  {
   "cell_type": "markdown",
   "metadata": {},
   "source": [
    "In this section we will be conducting the exploratory data analysis and data visualization. "
   ]
  },
  {
   "cell_type": "code",
   "execution_count": null,
   "metadata": {},
   "outputs": [],
   "source": []
  },
  {
   "cell_type": "code",
   "execution_count": null,
   "metadata": {},
   "outputs": [],
   "source": []
  },
  {
   "cell_type": "code",
   "execution_count": null,
   "metadata": {},
   "outputs": [],
   "source": []
  },
  {
   "cell_type": "code",
   "execution_count": null,
   "metadata": {},
   "outputs": [],
   "source": []
  },
  {
   "cell_type": "code",
   "execution_count": null,
   "metadata": {},
   "outputs": [],
   "source": []
  },
  {
   "cell_type": "code",
   "execution_count": null,
   "metadata": {},
   "outputs": [],
   "source": []
  },
  {
   "cell_type": "code",
   "execution_count": null,
   "metadata": {},
   "outputs": [],
   "source": []
  },
  {
   "cell_type": "code",
   "execution_count": null,
   "metadata": {},
   "outputs": [],
   "source": []
  }
 ],
 "metadata": {
  "kernelspec": {
   "display_name": "Python 3",
   "language": "python",
   "name": "python3"
  },
  "language_info": {
   "codemirror_mode": {
    "name": "ipython",
    "version": 3
   },
   "file_extension": ".py",
   "mimetype": "text/x-python",
   "name": "python",
   "nbconvert_exporter": "python",
   "pygments_lexer": "ipython3",
   "version": "3.7.3"
  }
 },
 "nbformat": 4,
 "nbformat_minor": 2
}
